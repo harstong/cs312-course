{
 "cells": [
  {
   "cell_type": "markdown",
   "metadata": {},
   "source": [
    "![](../images/cs312.png)\n",
    "***\n",
    "\n",
    "# 02 Teach : Team Activity B\n",
    "\n",
    "## 1 - Objectives\n",
    "\n",
    "- Look at different datatype for images\n",
    "- Basic Opencv functions"
   ]
  },
  {
   "cell_type": "markdown",
   "metadata": {},
   "source": [
    "***\n",
    "## 2 - Overview\n",
    "\n",
    "- For today's team activity, you will be working with image histograms and thresholds.\n"
   ]
  },
  {
   "cell_type": "markdown",
   "metadata": {},
   "source": [
    "***\n",
    "## 3 - Activity"
   ]
  },
  {
   "cell_type": "markdown",
   "metadata": {},
   "source": [
    "### 3.0 - The Setup\n",
    "The following code is required for this assignment. Make sure that it is run before running your functions."
   ]
  },
  {
   "cell_type": "code",
   "execution_count": 1,
   "metadata": {},
   "outputs": [],
   "source": [
    "# These are the libraries used in this notebook - you must run this cell\n",
    "%matplotlib inline\n",
    "import numpy as np\n",
    "import matplotlib.pyplot as plt\n",
    "import cv2"
   ]
  },
  {
   "cell_type": "markdown",
   "metadata": {},
   "source": [
    "### 3.1 - Histograms\n",
    "\n",
    "Histograms are used to better understand the color range of images.  Please use this [documentation page](https://docs.opencv.org/3.1.0/d1/db7/tutorial_py_histogram_begins.html) for reference.\n"
   ]
  },
  {
   "cell_type": "markdown",
   "metadata": {},
   "source": [
    "#### 3.1.1 - Load the image of the Salt Lake Temple\n"
   ]
  },
  {
   "cell_type": "code",
   "execution_count": 2,
   "metadata": {},
   "outputs": [],
   "source": [
    "# 1. Load the Salt Lake Temple iamge \"sl_temple.jpg\"\n",
    "img = cv2.imread('sl_temple.jpg')\n",
    "# 2. Display it's color histogram\n",
    "\n",
    "# 3. Display it's all three channels histogram\n",
    "\n",
    "# 4. Display it's grayscale histogram\n"
   ]
  },
  {
   "cell_type": "markdown",
   "metadata": {},
   "source": [
    "#### 3.1.2 - Load the your own image\n"
   ]
  },
  {
   "cell_type": "code",
   "execution_count": 3,
   "metadata": {},
   "outputs": [],
   "source": [
    "# 1. Load your image\n",
    "\n",
    "# 2. Display it's color histogram\n",
    "\n",
    "# 3. Display it's all three channels histogram\n",
    "\n",
    "# 4. Display it's grayscale histogram\n"
   ]
  },
  {
   "cell_type": "markdown",
   "metadata": {},
   "source": [
    "### 3.2 - Thresholds\n",
    "\n",
    "Thresholds allow us to remove or enhance images.\n",
    "\n",
    "- [Webpage on Using thresholds](http://www.bogotobogo.com/python/OpenCV_Python/python_opencv3_Image_Global_Thresholding_Adaptive_Thresholding_Otsus_Binarization_Segmentations.php)\n"
   ]
  },
  {
   "cell_type": "markdown",
   "metadata": {},
   "source": [
    "#### 3.2.1 - Load the image of the Salt Lake Temple\n"
   ]
  },
  {
   "cell_type": "code",
   "execution_count": 4,
   "metadata": {},
   "outputs": [],
   "source": [
    "# 1. Load the Salt Lake Temple iamge \"sl_temple.jpg\"\n",
    "\n",
    "# 2. Using the following statements, display the different threshold results on the temple image\n",
    "\n",
    "# ret,thresh1 = cv2.threshold(img,127,255,cv2.THRESH_BINARY)\n",
    "# ret,thresh2 = cv2.threshold(img,127,255,cv2.THRESH_BINARY_INV)\n",
    "# ret,thresh3 = cv2.threshold(img,127,255,cv2.THRESH_TRUNC)\n",
    "# ret,thresh4 = cv2.threshold(img,127,255,cv2.THRESH_TOZERO)\n",
    "# ret,thresh5 = cv2.threshold(img,127,255,cv2.THRESH_TOZERO_INV)\n"
   ]
  },
  {
   "cell_type": "markdown",
   "metadata": {},
   "source": [
    "#### 3.2.2 - Load your own image\n"
   ]
  },
  {
   "cell_type": "code",
   "execution_count": 5,
   "metadata": {},
   "outputs": [],
   "source": [
    "# 1. Load your own image\n",
    "\n",
    "# 2. Using the following statements, display the different threshold results on your image\n",
    "\n",
    "# ret,thresh1 = cv2.threshold(img,127,255,cv2.THRESH_BINARY)\n",
    "# ret,thresh2 = cv2.threshold(img,127,255,cv2.THRESH_BINARY_INV)\n",
    "# ret,thresh3 = cv2.threshold(img,127,255,cv2.THRESH_TRUNC)\n",
    "# ret,thresh4 = cv2.threshold(img,127,255,cv2.THRESH_TOZERO)\n",
    "# ret,thresh5 = cv2.threshold(img,127,255,cv2.THRESH_TOZERO_INV)\n"
   ]
  },
  {
   "cell_type": "markdown",
   "metadata": {},
   "source": [
    "***\n",
    "## 4 - Submission\n",
    "There are nothing to submit"
   ]
  }
 ],
 "metadata": {
  "kernelspec": {
   "display_name": "Python 3",
   "language": "python",
   "name": "python3"
  },
  "language_info": {
   "codemirror_mode": {
    "name": "ipython",
    "version": 3
   },
   "file_extension": ".py",
   "mimetype": "text/x-python",
   "name": "python",
   "nbconvert_exporter": "python",
   "pygments_lexer": "ipython3",
   "version": "3.6.3"
  }
 },
 "nbformat": 4,
 "nbformat_minor": 2
}
