{
 "cells": [
  {
   "cell_type": "markdown",
   "metadata": {},
   "source": [
    "![](../images/cs312.png)\n",
    "***\n",
    "\n",
    "\n",
    "# 03 Prepare : Reading \n",
    "\n",
    "## 1 - Objectives\n",
    "\n",
    "- Introduction to filters, thresholds and kernels\n"
   ]
  },
  {
   "cell_type": "markdown",
   "metadata": {},
   "source": [
    "***\n",
    "## 2 - Topic\n",
    "\n",
    "What is a filter?\n",
    "\n",
    "> A software routine that changes the appearance of an image or part of an image by altering the shades and colors of the pixels in some manner. Filters are used to increase brightness and contrast as well as to add a wide variety of textures, tones and special effects to a picture.\n",
    "\n",
    "This week, we will be learning to filter images.  The process of applying a filter to an image is called Convolution.\n",
    "\n",
    "> Convolution is the process of adding each element of the image to its local neighbors, weighted by the kernel\n",
    "\n",
    "The wikipedia webpage [Convolution with Kernels](https://goo.gl/Uysvpu) describes this process."
   ]
  },
  {
   "cell_type": "markdown",
   "metadata": {},
   "source": [
    "### 2.1 - Kernels and Convolution\n",
    "\n",
    "A kernel is a small matrix that is used to calculate new pixel values in a new image.  Notice that in the figure below that the kernel is of size 3x3.  9 cells are used in the image on the left to create one new pixel value in the new image on the right.  \n",
    "\n",
    "Kernels must be square and an odd size (ie., 3x3, 5x5, etc...).  Here is a great video on the process of applying a kernel to an image:\n",
    "https://www.youtube.com/watch?v=C_zFhWdM4ic\n",
    "\n",
    "![](convolution.png)"
   ]
  },
  {
   "cell_type": "markdown",
   "metadata": {},
   "source": [
    "### 2.2 - Different Kernels\n",
    "\n",
    "![](kernels.png)\n",
    "\n",
    "#### Example of a filter called \"Emboss\"\n",
    "\n",
    "> Image embossing is a computer graphics technique in which each pixel of an image is replaced either by a highlight or a shadow, depending on light/dark boundaries on the original image. Low contrast areas are replaced by a gray background. The filtered image will represent the rate of color change at each location of the original image. Applying an embossing filter to an image often results in an image resembling a paper or metal embossing of the original image, hence the name.\n",
    "\n",
    "![](emboss.jpg)\n",
    "![](gradients.png)"
   ]
  },
  {
   "cell_type": "markdown",
   "metadata": {},
   "source": [
    "### 2.3 - Thresholds\n",
    "\n",
    "Thresholding is the simplest method of image segmentation. From a grayscale image, thresholding can be used to create binary images.  This is a simple filter that reduces the number of colors or grayscale values to form a new image.  Thresholds need to have some \"cut off\" value or range of values.  This new simplified image can then be processed.\n",
    "\n",
    "![](threshold.png)\n",
    "\n",
    "Here is a video on applying a threshold on an image to be able to read text from it.\n",
    "https://www.youtube.com/watch?list=PLQVvvaa0QuDdttJXlLtAJxJetJcqmqlQq&v=jXzkxsT9gxM\n",
    "\n"
   ]
  },
  {
   "cell_type": "markdown",
   "metadata": {},
   "source": [
    "***\n",
    "## 3 - Coding examples"
   ]
  },
  {
   "cell_type": "code",
   "execution_count": 1,
   "metadata": {},
   "outputs": [],
   "source": [
    "# These are the libraries used in this notebook - you must run this cell\n",
    "%matplotlib inline\n",
    "import numpy as np\n",
    "import matplotlib.pyplot as plt\n",
    "import cv2"
   ]
  },
  {
   "cell_type": "markdown",
   "metadata": {},
   "source": [
    "**Grayscale images**\n",
    "\n",
    "Here is an image of different gray scale colors from white (255) to black (0)"
   ]
  },
  {
   "cell_type": "code",
   "execution_count": 2,
   "metadata": {},
   "outputs": [
    {
     "data": {
      "image/png": "[encoded data removed]",
      "text/plain": [
       "<matplotlib.figure.Figure at 0x23233197fd0>"
      ]
     },
     "metadata": {},
     "output_type": "display_data"
    },
    {
     "name": "stdout",
     "output_type": "stream",
     "text": [
      "[[255 255 255 ...,   0   0   0]\n",
      " [255 255 255 ...,   0   0   0]\n",
      " [255 255 255 ...,   0   0   0]\n",
      " ..., \n",
      " [255 255 255 ...,   0   0   0]\n",
      " [255 255 255 ...,   0   0   0]\n",
      " [255 255 255 ...,   0   0   0]]\n"
     ]
    }
   ],
   "source": [
    "img = cv2.imread('grayscale.png', 0)\n",
    "\n",
    "# Display the image\n",
    "# plt.imshow(img, cmap='gray')\n",
    "plt.imshow(img, cmap='gray')\n",
    "plt.title('grayscale Image'), plt.xticks([]), plt.yticks([])\n",
    "plt.show()\n",
    "\n",
    "# display the pixel values\n",
    "print(img)"
   ]
  }
 ],
 "metadata": {
  "kernelspec": {
   "display_name": "Python 3",
   "language": "python",
   "name": "python3"
  },
  "language_info": {
   "codemirror_mode": {
    "name": "ipython",
    "version": 3
   },
   "file_extension": ".py",
   "mimetype": "text/x-python",
   "name": "python",
   "nbconvert_exporter": "python",
   "pygments_lexer": "ipython3",
   "version": "3.6.3"
  }
 },
 "nbformat": 4,
 "nbformat_minor": 2
}
