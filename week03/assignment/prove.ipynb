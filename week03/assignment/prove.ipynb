{
 "cells": [
  {
   "cell_type": "markdown",
   "metadata": {},
   "source": [
    "![](../../images/cs312.png)\n",
    "***\n",
    "\n",
    "# 03 Prove - Assignment\n",
    "\n",
    "## 1 - Objectives\n",
    "\n",
    "- Image filtering"
   ]
  },
  {
   "cell_type": "markdown",
   "metadata": {},
   "source": [
    "## 2 - Introduction\n",
    "\n",
    "- There are a number of filters that can be used on images.  \n",
    "- Introduction to using kernels in filtering.\n",
    "- You will be implimenting a general function that can apply different filters."
   ]
  },
  {
   "cell_type": "markdown",
   "metadata": {},
   "source": [
    "## 3 - Assignment\n",
    "\n",
    "1. You will be implimenting the following functions outlined in this notebook.\n",
    "\n",
    "### 3.0 - Setup"
   ]
  },
  {
   "cell_type": "code",
   "execution_count": null,
   "metadata": {},
   "outputs": [],
   "source": [
    "# These are the libraries used in this notebook - you must run this cell\n",
    "%matplotlib inline\n",
    "import numpy as np\n",
    "import matplotlib.pyplot as plt\n",
    "import cv2\n",
    "\n",
    "# Load test image - grayscale\n",
    "tricycle = cv2.imread('tricycle.jpg', 0)\n",
    "\n",
    "# --------------------------------------------------------------------------\n",
    "# This function will create a new image based on an image.\n",
    "def padImage(img, sizeToGrow):\n",
    "    return cv2.copyMakeBorder(img, sizeToGrow, sizeToGrow, sizeToGrow, sizeToGrow, cv2.BORDER_REFLECT_101)\n",
    "\n",
    "# --------------------------------------------------------------------------\n",
    "# This function is handle to display grayscale images in the notebook\n",
    "def _displayImage(img, title):\n",
    "    plt.imshow(img, cmap = 'gray')\n",
    "    plt.title(title), plt.xticks([]), plt.yticks([])\n",
    "    plt.show()"
   ]
  },
  {
   "cell_type": "markdown",
   "metadata": {},
   "source": [
    "## 3.1 - normalization of an image\n",
    "\n",
    "The first function that you will impliment is called **normalizeImage()**.\n",
    "\n",
    "```\n",
    "Description:\n",
    "\n",
    "Shift and scale the range of values in src_array to fit in the interval\n",
    "[0...255]\n",
    "\n",
    "This function should shift the range of the input array so that the minimum\n",
    "value is equal to 0 and apply a linear scaling to the values in the input\n",
    "array such that the maximum value of the input maps to 255.\n",
    "\n",
    "The result should be equivalent to the library call:\n",
    "\n",
    "    cv2.normalize(src_array, alpha=0, beta=255, norm_type=cv2.NORM_MINMAX)\n",
    "\n",
    "(Notice that this means that the output array should have the same value\n",
    "type as the input array.)\n",
    "\n",
    "NOTE: You MAY NOT use any calls to library functions from openCV, scipy, or\n",
    "      numpy that perform this function directly, nor may you use any of\n",
    "      the operator methods listed in the note at the top. You MAY use numpy\n",
    "      operator broadcasting and/or \"advanced\" indexing techniques.\n",
    "\n",
    "Parameters\n",
    "----------\n",
    "src_array : numpy.ndarray\n",
    "    An input array to be normalized.\n",
    "\n",
    "Returns\n",
    "-------\n",
    "numpy.ndarray(dtype=np.uint8)\n",
    "    The input array after shifting and scaling the value range to fit in\n",
    "    the interval [0...255]\n",
    "```"
   ]
  },
  {
   "cell_type": "code",
   "execution_count": null,
   "metadata": {},
   "outputs": [],
   "source": [
    "# TODO - impliment this function\n",
    "def normalizeImage(img):\n",
    "    # Add your code here\n",
    "    return None  # Change the return to be your new image\n",
    "\n",
    "# This is code to test your normalizeImage() functions\n",
    "newImg = normalizeImage(tricycle)\n",
    "\n",
    "_displayImage(tricycle, 'Original')\n",
    "_displayImage(newImg, 'Normalized Image')"
   ]
  },
  {
   "cell_type": "markdown",
   "metadata": {},
   "source": [
    "***\n",
    "## 3.2 - Appling a filter to an image\n",
    "\n",
    "The next function is to take a kernel of size N x N and apply it to an image.\n",
    "\n",
    "\n",
    "```\n",
    "Description:\n",
    "\n",
    "Apply a kernel filter to an image.\n",
    "\n",
    "The result should be equivalent to the library call:\n",
    "\n",
    "        cv2.filter2D(img, -1, kernel)\n",
    "\n",
    "https://docs.opencv.org/3.1.0/d4/d13/tutorial_py_filtering.html\n",
    "\n",
    "(Notice that this means that the output array should have the same value\n",
    "type as the input array.)\n",
    "\n",
    "NOTE: You MAY NOT use any calls to library functions from openCV, scipy, or\n",
    "      numpy that perform this function directly, nor may you use any of\n",
    "      the operator methods listed in the note at the top. You MAY use numpy\n",
    "      operator broadcasting and/or \"advanced\" indexing techniques.\n",
    "\n",
    "Parameters\n",
    "----------\n",
    "img : numpy.ndarray\n",
    "    An input array to be normalized.\n",
    "kernel: numpy.ndarray\n",
    "    N x N array for filtering\n",
    "    \n",
    "Returns\n",
    "-------\n",
    "numpy.ndarray(dtype=np.uint8)\n",
    "    The resulting filtered image\n",
    "```"
   ]
  },
  {
   "cell_type": "code",
   "execution_count": null,
   "metadata": {},
   "outputs": [],
   "source": [
    "def applyKernel(img, kernel):\n",
    "    # TODO: Add you code here - this function needs to return a new image\n",
    "    return None   # Change it to be your new image\n",
    "\n",
    "\n",
    "# Here is code to test the function above\n",
    "# Create the identity kernel\n",
    "identity = np.array(([0, 0, 0],\n",
    "                     [0, 1, 0],\n",
    "                     [0, 0, 0]), dtype=\"float\")\n",
    "\n",
    "# Calling applyKernel(image1, identity) will return the same image\n",
    "newImg = applyKernel(tricycle, identity)\n",
    "\n",
    "_displayImage(tricycle, 'Original')\n",
    "_displayImage(newImg, 'Identity')"
   ]
  },
  {
   "cell_type": "markdown",
   "metadata": {},
   "source": [
    "## 3.3 - Create the following kernels"
   ]
  },
  {
   "cell_type": "code",
   "execution_count": null,
   "metadata": {},
   "outputs": [],
   "source": [
    "# TODO Create the kernels\n",
    "\n",
    "# TODO - Change the following 4 lines to create the correct kernels instead of using the identity kernel\n",
    "emboss = identity\n",
    "sobel = identity\n",
    "sharpen = identity\n",
    "smooth = identity\n",
    "\n",
    "imgEmboss = applyKernel(tricycle, emboss)\n",
    "imgSobel = applyKernel(tricycle, sobel)\n",
    "imgSharpen = applyKernel(tricycle, sharpen)\n",
    "imgSmooth = applyKernel(tricycle, smooth)\n",
    "\n",
    "_displayImage(imgEmboss, 'Emboss')\n",
    "_displayImage(imgSobel, 'Sobel')\n",
    "_displayImage(imgSharpen, 'Sharpen')\n",
    "_displayImage(imgSmooth, 'Smooth')\n"
   ]
  },
  {
   "cell_type": "markdown",
   "metadata": {},
   "source": [
    "## 3.4 - Using your images\n",
    "\n",
    "- Use 3 images that you have taken with your cell phone or camera.\n",
    "- Apply any of the filters in this assignment or take you read about to your images\n",
    "- Use the filter functions in this assignment - not from OpenCV.\n",
    "- Display the code and results."
   ]
  },
  {
   "cell_type": "markdown",
   "metadata": {},
   "source": [
    "### 3.4.1 - Image 1"
   ]
  },
  {
   "cell_type": "code",
   "execution_count": null,
   "metadata": {},
   "outputs": [],
   "source": [
    "# Add your code and results of processing your images\n",
    "# Display the original and the results\n"
   ]
  },
  {
   "cell_type": "markdown",
   "metadata": {},
   "source": [
    "#### TODO Image 1 Results\n",
    "- Decribe why you selected this filter\n",
    "- Did it work?  Why or why not.\n",
    "- One sentence answers will not be graded."
   ]
  },
  {
   "cell_type": "markdown",
   "metadata": {},
   "source": [
    "### 3.4.2 - Image 2"
   ]
  },
  {
   "cell_type": "code",
   "execution_count": null,
   "metadata": {},
   "outputs": [],
   "source": [
    "# Add your code and results of processing your images\n",
    "# Display the original and the results\n"
   ]
  },
  {
   "cell_type": "markdown",
   "metadata": {},
   "source": [
    "#### TODO Image 2 Results\n",
    "- Decribe why you selected this filter\n",
    "- Did it work?  Why or why not.\n",
    "- One sentence answers will not be graded."
   ]
  },
  {
   "cell_type": "markdown",
   "metadata": {},
   "source": [
    "### 3.4.3 - Image 3"
   ]
  },
  {
   "cell_type": "code",
   "execution_count": null,
   "metadata": {},
   "outputs": [],
   "source": [
    "# Add your code and results of processing your images\n",
    "# Display the original and the results\n"
   ]
  },
  {
   "cell_type": "markdown",
   "metadata": {},
   "source": [
    "#### TODO Image 3 Results\n",
    "- Decribe why you selected this filter\n",
    "- Did it work?  Why or why not.\n",
    "- One sentence answers will not be graded."
   ]
  },
  {
   "cell_type": "markdown",
   "metadata": {},
   "source": [
    "***\n",
    "## 4 - Rubric\n",
    "\n",
    "It is your responsibility to show that your assignment clearly satisfies the rubric.  Use as many tests to show that your assignment deserves the grade it should get.\n",
    "\n",
    "| Task | Points |\n",
    "|------|-----|\n",
    "| normalizeImage() | 20 |\n",
    "| applyKernel() | 30 |\n",
    "| Section 3.3 - muiltiple kernels | 10 |\n",
    "| Personal Image Filter 1 | 10 |\n",
    "| Personal Image Filter 2 | 10 |\n",
    "| Personal Image Filter 3 | 10 |\n",
    "| Coding style and Presentation | 10 |\n",
    "|------|-----|\n",
    "| Total | 100  |\n",
    "\n"
   ]
  },
  {
   "cell_type": "markdown",
   "metadata": {},
   "source": [
    "***\n",
    "## 5 - Submission\n",
    "\n",
    "Do all of you coding in this Jupyter Notebook:\n",
    "1. Download this notebook to your computer.\n",
    "1. Run Jupyter Notebook to allow you edit this notebook.\n",
    "1. Write and compile your code in the notebook.\n",
    "1. When finished, run all cells, export to HTML and upload it to I-Learn.\n"
   ]
  }
 ],
 "metadata": {
  "kernelspec": {
   "display_name": "Python 3",
   "language": "python",
   "name": "python3"
  },
  "language_info": {
   "codemirror_mode": {
    "name": "ipython",
    "version": 3
   },
   "file_extension": ".py",
   "mimetype": "text/x-python",
   "name": "python",
   "nbconvert_exporter": "python",
   "pygments_lexer": "ipython3",
   "version": "3.6.3"
  }
 },
 "nbformat": 4,
 "nbformat_minor": 2
}
