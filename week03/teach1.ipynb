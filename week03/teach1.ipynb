{
 "cells": [
  {
   "cell_type": "markdown",
   "metadata": {},
   "source": [
    "![](../images/cs312.png)\n",
    "***\n",
    "# 03 Teach : Team Activity A\n",
    "\n",
    "## 1 - Objectives\n",
    "\n",
    "- Impliment the OpenCV function copyMakeBorder()"
   ]
  },
  {
   "cell_type": "markdown",
   "metadata": {},
   "source": [
    "*** \n",
    "## 2 - Overview\n",
    "\n",
    "When we use convolution on an image, we need to handle the edges carefully.  Remember that when we use a kernel on a pixel, we are using the pixels around it too.\n",
    "\n",
    "**Question**: What do we do with edge pixels?\n",
    "\n",
    "**Answers**\n",
    "1. ignore the edge pixels.  This means that the resulting image is either smaller than the original.\n",
    "1. expand the image with extra pixels.  We will be using this method\n"
   ]
  },
  {
   "cell_type": "markdown",
   "metadata": {},
   "source": [
    "### 2.1 - Documentation of copyMakeBorder\n",
    "\n",
    "#### Making Borders for Images (Padding)\n",
    "\n",
    "If you want to create a border around the image, something like a photo frame, you can use cv2.copyMakeBorder() function. But it has more applications for convolution operation, zero padding etc. This function takes following arguments:\n",
    "\n",
    "- **src** - input image\n",
    "- **top, bottom, left, right** - border width in number of pixels in corresponding directions\n",
    "- **borderType** - Flag defining what kind of border to be added. It can be following types:\n",
    "    - **cv2.BORDER_CONSTANT** - Adds a constant colored border. The value should be given as next argument.\n",
    "    - **cv2.BORDER_REFLECT** - Border will be mirror reflection of the border elements, like this : fedcba|abcdefgh|hgfedcb\n",
    "    - **cv2.BORDER_REFLECT_101** or cv2.BORDER_DEFAULT - Same as above, but with a slight change, like this : gfedcb|abcdefgh|gfedcba\n",
    "    - **cv2.BORDER_REPLICATE** - Last element is replicated throughout, like this: aaaaaa|abcdefgh|hhhhhhh\n",
    "    - **cv2.BORDER_WRAP** - Can't explain, it will look like this : cdefgh|abcdefgh|abcdefg\n",
    "\n",
    "Here is an image of example options:\n",
    "\n",
    "![](borders.jpg)\n"
   ]
  },
  {
   "cell_type": "markdown",
   "metadata": {},
   "source": [
    "***\n",
    "## 3 - Instructions\n",
    "\n",
    "You will be implimenting the copyMakeBorder() function using the **cv2.BORDER_REFLECT_101**.  This option will take the following row in an image:\n",
    "\n",
    "abcdef\n",
    "\n",
    "And produce the following row (ie., padding of 3 in this case) in a new image - I added the '|' to indicate the original values and the padding values:\n",
    "\n",
    "bcd|abcdef|edc\n",
    "\n",
    "Instead of doing this for a full image, we will work on a simple numpy array."
   ]
  },
  {
   "cell_type": "markdown",
   "metadata": {},
   "source": [
    "### 3.0 - Setup"
   ]
  },
  {
   "cell_type": "code",
   "execution_count": null,
   "metadata": {},
   "outputs": [],
   "source": [
    "# These are the libraries used in this notebook - you must run this cell\n",
    "%matplotlib inline\n",
    "import numpy as np\n",
    "import matplotlib.pyplot as plt\n",
    "import cv2"
   ]
  },
  {
   "cell_type": "markdown",
   "metadata": {},
   "source": [
    "### 3.1 - Simple Numpy padding\n",
    "\n",
    "Impliment the following functions to pad a numpy array using **cv2.BORDER_REFLECT_101**"
   ]
  },
  {
   "cell_type": "code",
   "execution_count": null,
   "metadata": {},
   "outputs": [],
   "source": [
    "# Impliement this function to pad a simple numpy array\n",
    "# in '12345', 3 => '43212345'\n",
    "def padRowBeginning(row, amount):\n",
    "    # TODO - add your code here\n",
    "    pass\n",
    "\n",
    "orgArray = np.array([1,2,3,4,5])\n",
    "newArray = padRowBeginning(orgArray, 3)\n",
    "\n",
    "print('orgArray:', orgArray)\n",
    "print('newArray:', newArray)\n"
   ]
  },
  {
   "cell_type": "code",
   "execution_count": null,
   "metadata": {},
   "outputs": [],
   "source": [
    "# Impliement this function to pad a simple numpy array\n",
    "# in '12345', 3 => '12345432'\n",
    "def padRowEnd(row, amount):\n",
    "    # TODO - add your code here\n",
    "    pass\n",
    "\n",
    "orgArray = np.array([1,2,3,4,5])\n",
    "newArray = padRowEnd(orgArray, 3)\n",
    "\n",
    "print('orgArray:', orgArray)\n",
    "print('newArray:', newArray)\n"
   ]
  },
  {
   "cell_type": "code",
   "execution_count": null,
   "metadata": {},
   "outputs": [],
   "source": [
    "# Impliement this function to pad a simple numpy array\n",
    "# in '12345', 3 => '43212345432'\n",
    "def padRow(row, amount):\n",
    "    # TODO - add your code here\n",
    "    pass\n",
    "\n",
    "orgArray = np.array([1,2,3,4,5])\n",
    "newArray = padRow(orgArray, 3)\n",
    "\n",
    "print('orgArray:', orgArray)\n",
    "print('newArray:', newArray)\n"
   ]
  },
  {
   "cell_type": "markdown",
   "metadata": {},
   "source": [
    "### 3.2 - Pad Rows and Columns"
   ]
  },
  {
   "cell_type": "code",
   "execution_count": null,
   "metadata": {},
   "outputs": [],
   "source": [
    "# Impliement this function to pad all of the rows of an 3D array\n",
    "def padRows(rows, amount):\n",
    "    # TODO - add your code here\n",
    "    pass\n",
    "\n",
    "orgArray = np.array(range(1, 17)).reshape(4, 4)\n",
    "newArray = padRows(orgArray, 2)\n",
    "\n",
    "print('orgArray:\\n', orgArray)\n",
    "print('newArray:\\n', newArray)"
   ]
  },
  {
   "cell_type": "code",
   "execution_count": null,
   "metadata": {},
   "outputs": [],
   "source": [
    "# Impliement this function to pad all of the cols of an 3D array\n",
    "def padCols(cols, amount):\n",
    "    # TODO - add your code here\n",
    "    pass\n",
    "\n",
    "orgArray = np.array(range(1, 17)).reshape(4, 4)\n",
    "newArray = padCols(orgArray, 2)\n",
    "\n",
    "print('orgArray:\\n', orgArray)\n",
    "print('newArray:\\n', newArray)"
   ]
  },
  {
   "cell_type": "markdown",
   "metadata": {},
   "source": [
    "### 3.3 - Challenge"
   ]
  },
  {
   "cell_type": "code",
   "execution_count": null,
   "metadata": {},
   "outputs": [],
   "source": [
    "# Impliement this function to pad all of the rows and cols of an 3D array\n",
    "def padArray(cols, amount):\n",
    "    # TODO - add your code here\n",
    "    pass\n",
    "\n",
    "orgArray = np.array(range(1, 17)).reshape(4, 4)\n",
    "newArray = padArray(orgArray, 2)\n",
    "\n",
    "print('orgArray:\\n', orgArray)\n",
    "print('newArray:\\n', newArray)"
   ]
  },
  {
   "cell_type": "markdown",
   "metadata": {},
   "source": [
    "***\n",
    "## 4 - Submission\n",
    "There are nothing to submit"
   ]
  }
 ],
 "metadata": {
  "kernelspec": {
   "display_name": "Python 3",
   "language": "python",
   "name": "python3"
  },
  "language_info": {
   "codemirror_mode": {
    "name": "ipython",
    "version": 3
   },
   "file_extension": ".py",
   "mimetype": "text/x-python",
   "name": "python",
   "nbconvert_exporter": "python",
   "pygments_lexer": "ipython3",
   "version": "3.6.3"
  }
 },
 "nbformat": 4,
 "nbformat_minor": 2
}
