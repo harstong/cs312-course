{
 "cells": [
  {
   "cell_type": "markdown",
   "metadata": {},
   "source": [
    "![](../images/cs312.png)\n",
    "***\n",
    "\n",
    "# 03 Teach : Team Activity B\n",
    "\n",
    "## 1 - Objectives\n",
    "\n",
    "- Use OpenCV and numpy to modify images using threshold and emboss filter.\n"
   ]
  },
  {
   "cell_type": "markdown",
   "metadata": {},
   "source": [
    "***\n",
    "## 2 - Overview\n",
    "\n",
    "In this teach activity, we will be using OpenCV functions to explore images."
   ]
  },
  {
   "cell_type": "markdown",
   "metadata": {},
   "source": [
    "***\n",
    "## 3 - Instructions\n",
    "\n",
    "Program the following code questions using openCV and numpy."
   ]
  },
  {
   "cell_type": "markdown",
   "metadata": {},
   "source": [
    "### 3.0 - Steup"
   ]
  },
  {
   "cell_type": "code",
   "execution_count": null,
   "metadata": {},
   "outputs": [],
   "source": [
    "# These are the libraries used in this notebook - you must run this cell\n",
    "%matplotlib inline\n",
    "import numpy as np\n",
    "import matplotlib.pyplot as plt\n",
    "import cv2\n",
    "\n",
    "# --------------------------------------------------------------------------\n",
    "# This function is handle to display grayscale images in the notebook\n",
    "def _displayImage(img, title):\n",
    "    plt.imshow(img, cmap = 'gray')\n",
    "    plt.title(title), plt.xticks([]), plt.yticks([])\n",
    "    plt.show()"
   ]
  },
  {
   "cell_type": "markdown",
   "metadata": {},
   "source": [
    "### 3.1 - Thresholds\n",
    "\n",
    "Review the webspte on [thresholds in OpenCV](https://docs.opencv.org/3.3.1/d7/d4d/tutorial_py_thresholding.html) and apply thresholds to the given image.  Then, using your own image(s), apply thresholds to them to see what the results are.\n",
    "\n",
    "1. Review and run the following code.  Make sure you understand what each threshold function is doing. Talk between your team members.\n",
    "2. Next, try the images 'gradient2.jpg' and 'gradient3.jpg' and see the results."
   ]
  },
  {
   "cell_type": "code",
   "execution_count": null,
   "metadata": {},
   "outputs": [],
   "source": [
    "img = cv2.imread('gradient.png',0)\n",
    "\n",
    "ret,thresh1 = cv2.threshold(img,127,255,cv2.THRESH_BINARY)\n",
    "ret,thresh2 = cv2.threshold(img,127,255,cv2.THRESH_BINARY_INV)\n",
    "ret,thresh3 = cv2.threshold(img,127,255,cv2.THRESH_TRUNC)\n",
    "ret,thresh4 = cv2.threshold(img,127,255,cv2.THRESH_TOZERO)\n",
    "ret,thresh5 = cv2.threshold(img,127,255,cv2.THRESH_TOZERO_INV)\n",
    "titles = ['Original Image','BINARY','BINARY_INV','TRUNC','TOZERO','TOZERO_INV']\n",
    "images = [img, thresh1, thresh2, thresh3, thresh4, thresh5]\n",
    "\n",
    "for i in range(6):\n",
    "    plt.subplot(2,3,i+1),plt.imshow(images[i],'gray')\n",
    "    plt.title(titles[i])\n",
    "    plt.xticks([]),plt.yticks([])\n",
    "\n",
    "plt.show()"
   ]
  },
  {
   "cell_type": "markdown",
   "metadata": {},
   "source": [
    "### 3.2 - Emboss Filter\n",
    "\n",
    "The following code will apply emboss to images.  How and why are the final emboss images different?  Please reference to the webpage on [Embossing](http://tricktekno.com/image-embossing-opencv/).  \n",
    "1. Why does the code example in the webpage what to add 128 to the final image?\n",
    "1. Try it below and explain the results."
   ]
  },
  {
   "cell_type": "code",
   "execution_count": null,
   "metadata": {},
   "outputs": [],
   "source": [
    "img = cv2.imread('image1.jpg',0)\n",
    "\n",
    "# generating the kernels\n",
    "kernel_emboss_1 = np.array([[0,-1,-1],\n",
    "                            [1,0,-1],\n",
    "                            [1,1,0]])\n",
    "kernel_emboss_2 = np.array([[-1,-1,0],\n",
    "                            [-1,0,1],\n",
    "                            [0,1,1]])\n",
    "kernel_emboss_3 = np.array([[1,0,0],\n",
    "                            [0,0,0],\n",
    "                            [0,0,-1]])\n",
    "\n",
    "# converting the image to grayscale\n",
    "output_1 = cv2.filter2D(img, -1, kernel_emboss_1)\n",
    "output_2 = cv2.filter2D(img, -1, kernel_emboss_2)\n",
    "output_3 = cv2.filter2D(img, -1, kernel_emboss_3)\n",
    "\n",
    "_displayImage(output_1, 'Emboss 1')\n",
    "_displayImage(output_2, 'Emboss 2')\n",
    "_displayImage(output_3, 'Emboss 3')"
   ]
  },
  {
   "cell_type": "markdown",
   "metadata": {},
   "source": [
    "### 3.3 - Try your own images for threshold and Emboss\n",
    "\n",
    "Get your own images and try it out."
   ]
  },
  {
   "cell_type": "markdown",
   "metadata": {},
   "source": [
    "***\n",
    "## 4 - Submission\n",
    "There are nothing to submit"
   ]
  }
 ],
 "metadata": {
  "kernelspec": {
   "display_name": "Python 3",
   "language": "python",
   "name": "python3"
  },
  "language_info": {
   "codemirror_mode": {
    "name": "ipython",
    "version": 3
   },
   "file_extension": ".py",
   "mimetype": "text/x-python",
   "name": "python",
   "nbconvert_exporter": "python",
   "pygments_lexer": "ipython3",
   "version": "3.6.3"
  }
 },
 "nbformat": 4,
 "nbformat_minor": 2
}
